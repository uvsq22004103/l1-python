{
 "cells": [
  {
   "cell_type": "markdown",
   "metadata": {
    "slideshow": {
     "slide_type": "slide"
    }
   },
   "source": [
    "# Cours 5: Utiliser les fonctions et les outils pour écrire un script"
   ]
  },
  {
   "cell_type": "markdown",
   "metadata": {
    "slideshow": {
     "slide_type": "slide"
    }
   },
   "source": [
    "# 1. Programmation d'un *vrai* script\n",
    "\n",
    "On va présenter ici comment écrire un programme plus conséquent:\n",
    "\n",
    "* En le découpant en fonctions simples pour le rendre plus compréhensible\n",
    "* En documentant les fonctions\n",
    "* En utilisant les outils de débogages\n"
   ]
  },
  {
   "cell_type": "markdown",
   "metadata": {
    "slideshow": {
     "slide_type": "subslide"
    }
   },
   "source": [
    "Conseil d'utilisation des fonctions:\n",
    "\n",
    "* Une fonction effectue une tâche unique et précise. \n",
    "* Une fonction trop longue ou compliquée peut souvent être découpée en plusieurs petites fonctions qui s'apellent entre elles\n",
    "* On doit pouvoir comprendre ce que fait une fonction sans voir son code. Le choix de son nom, du nom des arguments et le docstring sont cruciaux.\n",
    "* Le nom d'une fonction comprenant plusieurs mots s'écrit en mettant une majuscule à chaque mot sauf au premier: `incrementeListe`"
   ]
  },
  {
   "cell_type": "code",
   "execution_count": 2,
   "metadata": {
    "slideshow": {
     "slide_type": "subslide"
    }
   },
   "outputs": [
    {
     "data": {
      "text/plain": [
       "0"
      ]
     },
     "execution_count": 2,
     "metadata": {},
     "output_type": "execute_result"
    }
   ],
   "source": [
    "def max(liste):  #calcul d'un max, exemple d'une fonction simple\n",
    "    if len(liste) == 0:\n",
    "        return None\n",
    "    maximum = liste[0]\n",
    "    for elem in liste:\n",
    "        if maximum < elem:\n",
    "            maximum = elem\n",
    "    return maximum        \n",
    "\n",
    "max([3,1,6,9,12,0])"
   ]
  },
  {
   "cell_type": "markdown",
   "metadata": {
    "slideshow": {
     "slide_type": "subslide"
    }
   },
   "source": [
    "Les fonctions doivent permettre d'éviter la *duplication de code* autant que possible.\n",
    "\n",
    "Par exemple le code de max est correct, quel que soit le type d'élément de la liste.\n",
    "On veut faire du code modulaire: plutôt qu'implémenter plusieurs fonctions max pour des types d'éléments différents, on va faire une fonction paramétrée: l'opérateur de comparaison peut être passé en argument. \n",
    "\n",
    "*Les fonctions sont des objets comme les autres.*"
   ]
  },
  {
   "cell_type": "code",
   "execution_count": 7,
   "metadata": {},
   "outputs": [
    {
     "name": "stdout",
     "output_type": "stream",
     "text": [
      "1\n",
      "(6, 7, 8)\n"
     ]
    }
   ],
   "source": [
    "def maxModulaire(liste,inferieur):  #calcul d'un max, exemple d'une fonction simple\n",
    "    if len(liste) == 0:\n",
    "        return None\n",
    "    maximum = liste[0]\n",
    "    for elem in liste:\n",
    "        if inferieur(maximum,elem) :\n",
    "            maximum = elem\n",
    "    return maximum        \n",
    "\n",
    "def min(liste):\n",
    "    return maxModulaire(liste, lambda x,y: x > y)\n",
    "\n",
    "print(min([3,2,6,1,9,5]))\n",
    "\n",
    "print(maxModulaire([(1,3,2),(1,5,2),(6,7,8)], lambda x, y: x[0] + x[1] - x[2] < y[0] + y[1] - y[2]))\n"
   ]
  },
  {
   "cell_type": "markdown",
   "metadata": {
    "slideshow": {
     "slide_type": "slide"
    }
   },
   "source": [
    "# 2. Écrire une code sans erreur\n",
    "\n",
    "Il est normal de faire des erreurs de programmation, particulièrement\n",
    "si le programme est long et que vous êtes débutant. Heureusement, il est possible d'en repérer une bonne partie automatiquement:\n",
    "\n",
    "* Les typos, une variable ou le nom d'une fonction est mal orthographié : linter, erreur à l'exécution\n",
    "* Les problèmes de type, typiquement application d'un fonction à un argument du mauvais type : annotation de types, erreur à l'exécution\n",
    "* Les problèmes typiques de mauvais usage du langage (variable inutiles, mauvaises comparaisons): linter, warnings\n",
    "* Des problèmes erratiques à l'exécution: debugger\n",
    "* Des problèmes de logique dans votre code : debugger, test unitaire et code certifié par un outil de vérification automatique\n",
    "* Des problèmes de performance dans votre code : profiler"
   ]
  },
  {
   "cell_type": "markdown",
   "metadata": {
    "slideshow": {
     "slide_type": "slide"
    }
   },
   "source": [
    "# 3. Utilisation du linter\n",
    "\n",
    "Voir la [page](https://flake8.pycqa.org/en/latest/user/error-codes.html) des erreurs détectées par flake8."
   ]
  },
  {
   "cell_type": "markdown",
   "metadata": {
    "slideshow": {
     "slide_type": "notes"
    }
   },
   "source": [
    "Faire tourner flake8 sur quelques exemples typiques d'erreur.\n",
    "\n",
    "import math\n",
    "3+4*2\n",
    "##########\n",
    "x = 2\n",
    "3+4*2\n",
    "##########\n",
    "x = 3\n",
    "y = 10\n",
    "while (x < y)\n",
    "    x+=1\n",
    "if x = y/2 : \n",
    "    break\n",
    "\n"
   ]
  },
  {
   "cell_type": "markdown",
   "metadata": {
    "slideshow": {
     "slide_type": "slide"
    }
   },
   "source": [
    "# 4. Ajout d'anotation de type\n",
    "\n",
    "On peut spécifier le type des arguments à la définition d'une fonction ainsi que le type de retour. C'est une annotation de fonction et cela permet de typer ses programmes comme en C/C++ pour éviter des bugs.\n",
    "Ça sera utile en conjonction avec le linter que nous allons bientôt découvrir. "
   ]
  },
  {
   "cell_type": "code",
   "execution_count": 1,
   "metadata": {
    "slideshow": {
     "slide_type": "fragment"
    }
   },
   "outputs": [
    {
     "name": "stdout",
     "output_type": "stream",
     "text": [
      "12\n",
      "saluthello\n"
     ]
    },
    {
     "ename": "TypeError",
     "evalue": "unsupported operand type(s) for +: 'int' and 'str'",
     "output_type": "error",
     "traceback": [
      "\u001b[0;31m---------------------------------------------------------------------------\u001b[0m",
      "\u001b[0;31mTypeError\u001b[0m                                 Traceback (most recent call last)",
      "\u001b[0;32m<ipython-input-1-8344ecc8db4b>\u001b[0m in \u001b[0;36m<module>\u001b[0;34m\u001b[0m\n\u001b[1;32m      2\u001b[0m \u001b[0mprint\u001b[0m\u001b[0;34m(\u001b[0m\u001b[0;36m5\u001b[0m \u001b[0;34m+\u001b[0m \u001b[0;36m7\u001b[0m\u001b[0;34m)\u001b[0m\u001b[0;34m\u001b[0m\u001b[0;34m\u001b[0m\u001b[0m\n\u001b[1;32m      3\u001b[0m \u001b[0mprint\u001b[0m\u001b[0;34m(\u001b[0m\u001b[0;34m\"salut\"\u001b[0m \u001b[0;34m+\u001b[0m \u001b[0;34m\"hello\"\u001b[0m\u001b[0;34m)\u001b[0m\u001b[0;34m\u001b[0m\u001b[0;34m\u001b[0m\u001b[0m\n\u001b[0;32m----> 4\u001b[0;31m \u001b[0mprint\u001b[0m\u001b[0;34m(\u001b[0m\u001b[0;36m5\u001b[0m \u001b[0;34m+\u001b[0m \u001b[0;34m\"hello\"\u001b[0m\u001b[0;34m)\u001b[0m\u001b[0;34m\u001b[0m\u001b[0;34m\u001b[0m\u001b[0m\n\u001b[0m",
      "\u001b[0;31mTypeError\u001b[0m: unsupported operand type(s) for +: 'int' and 'str'"
     ]
    }
   ],
   "source": [
    "# Code avec un problème\n",
    "print(5 + 7)\n",
    "print(\"salut\" + \"hello\")\n",
    "print(5 + \"hello\")"
   ]
  },
  {
   "cell_type": "code",
   "execution_count": 3,
   "metadata": {},
   "outputs": [
    {
     "name": "stdout",
     "output_type": "stream",
     "text": [
      "12\n",
      "saluthello\n"
     ]
    },
    {
     "ename": "TypeError",
     "evalue": "unsupported operand type(s) for +: 'int' and 'str'",
     "output_type": "error",
     "traceback": [
      "\u001b[0;31m---------------------------------------------------------------------------\u001b[0m",
      "\u001b[0;31mTypeError\u001b[0m                                 Traceback (most recent call last)",
      "\u001b[0;32m<ipython-input-3-731386e6ec94>\u001b[0m in \u001b[0;36m<module>\u001b[0;34m\u001b[0m\n\u001b[1;32m      4\u001b[0m \u001b[0mmon_print\u001b[0m\u001b[0;34m(\u001b[0m\u001b[0;36m5\u001b[0m\u001b[0;34m,\u001b[0m\u001b[0;36m7\u001b[0m\u001b[0;34m)\u001b[0m\u001b[0;34m\u001b[0m\u001b[0;34m\u001b[0m\u001b[0m\n\u001b[1;32m      5\u001b[0m \u001b[0mmon_print\u001b[0m\u001b[0;34m(\u001b[0m\u001b[0;34m\"salut\"\u001b[0m\u001b[0;34m,\u001b[0m\u001b[0;34m\"hello\"\u001b[0m\u001b[0;34m)\u001b[0m\u001b[0;34m\u001b[0m\u001b[0;34m\u001b[0m\u001b[0m\n\u001b[0;32m----> 6\u001b[0;31m \u001b[0mmon_print\u001b[0m\u001b[0;34m(\u001b[0m\u001b[0;36m5\u001b[0m\u001b[0;34m,\u001b[0m\u001b[0;34m\"salut\"\u001b[0m\u001b[0;34m)\u001b[0m\u001b[0;34m\u001b[0m\u001b[0;34m\u001b[0m\u001b[0m\n\u001b[0m",
      "\u001b[0;32m<ipython-input-3-731386e6ec94>\u001b[0m in \u001b[0;36mmon_print\u001b[0;34m(a, b)\u001b[0m\n\u001b[1;32m      1\u001b[0m \u001b[0;32mdef\u001b[0m \u001b[0mmon_print\u001b[0m\u001b[0;34m(\u001b[0m\u001b[0ma\u001b[0m \u001b[0;34m:\u001b[0m \u001b[0mint\u001b[0m\u001b[0;34m,\u001b[0m \u001b[0mb\u001b[0m\u001b[0;34m:\u001b[0m \u001b[0mint\u001b[0m\u001b[0;34m)\u001b[0m\u001b[0;34m:\u001b[0m\u001b[0;34m\u001b[0m\u001b[0;34m\u001b[0m\u001b[0m\n\u001b[0;32m----> 2\u001b[0;31m     \u001b[0mprint\u001b[0m\u001b[0;34m(\u001b[0m\u001b[0ma\u001b[0m \u001b[0;34m+\u001b[0m \u001b[0mb\u001b[0m\u001b[0;34m)\u001b[0m\u001b[0;34m\u001b[0m\u001b[0;34m\u001b[0m\u001b[0m\n\u001b[0m\u001b[1;32m      3\u001b[0m \u001b[0;34m\u001b[0m\u001b[0m\n\u001b[1;32m      4\u001b[0m \u001b[0mmon_print\u001b[0m\u001b[0;34m(\u001b[0m\u001b[0;36m5\u001b[0m\u001b[0;34m,\u001b[0m\u001b[0;36m7\u001b[0m\u001b[0;34m)\u001b[0m\u001b[0;34m\u001b[0m\u001b[0;34m\u001b[0m\u001b[0m\n\u001b[1;32m      5\u001b[0m \u001b[0mmon_print\u001b[0m\u001b[0;34m(\u001b[0m\u001b[0;34m\"salut\"\u001b[0m\u001b[0;34m,\u001b[0m\u001b[0;34m\"hello\"\u001b[0m\u001b[0;34m)\u001b[0m\u001b[0;34m\u001b[0m\u001b[0;34m\u001b[0m\u001b[0m\n",
      "\u001b[0;31mTypeError\u001b[0m: unsupported operand type(s) for +: 'int' and 'str'"
     ]
    }
   ],
   "source": [
    "def mon_print(a : int, b: int):\n",
    "    print(a + b)\n",
    "    \n",
    "mon_print(5,7)\n",
    "mon_print(\"salut\",\"hello\")\n",
    "mon_print(5,\"salut\")"
   ]
  },
  {
   "cell_type": "code",
   "execution_count": null,
   "metadata": {},
   "outputs": [],
   "source": []
  }
 ],
 "metadata": {
  "celltoolbar": "Diaporama",
  "kernelspec": {
   "display_name": "Python 3",
   "language": "python",
   "name": "python3"
  },
  "language_info": {
   "codemirror_mode": {
    "name": "ipython",
    "version": 3
   },
   "file_extension": ".py",
   "mimetype": "text/x-python",
   "name": "python",
   "nbconvert_exporter": "python",
   "pygments_lexer": "ipython3",
   "version": "3.8.3"
  }
 },
 "nbformat": 4,
 "nbformat_minor": 4
}
